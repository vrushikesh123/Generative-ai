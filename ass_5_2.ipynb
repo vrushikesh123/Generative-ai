{
  "nbformat": 4,
  "nbformat_minor": 0,
  "metadata": {
    "colab": {
      "provenance": [],
      "authorship_tag": "ABX9TyOJTJbBfmdtjtkBJCzro10k",
      "include_colab_link": true
    },
    "kernelspec": {
      "name": "python3",
      "display_name": "Python 3"
    },
    "language_info": {
      "name": "python"
    }
  },
  "cells": [
    {
      "cell_type": "markdown",
      "metadata": {
        "id": "view-in-github",
        "colab_type": "text"
      },
      "source": [
        "<a href=\"https://colab.research.google.com/github/vrushikesh123/Generative-ai/blob/main/ass_5_2.ipynb\" target=\"_parent\"><img src=\"https://colab.research.google.com/assets/colab-badge.svg\" alt=\"Open In Colab\"/></a>"
      ]
    },
    {
      "cell_type": "code",
      "execution_count": 2,
      "metadata": {
        "colab": {
          "base_uri": "https://localhost:8080/"
        },
        "id": "s-wW1w_-S6lU",
        "outputId": "f36dd93b-9f22-40fe-86d6-a1c59ea2de67"
      },
      "outputs": [
        {
          "output_type": "stream",
          "name": "stdout",
          "text": [
            "Training MSE: 3.2167674042375246e-07\n",
            "Testing MSE: 7.458546501384379e-07\n",
            "Enter x1: 0.5\n",
            "Enter x2: 0.4\n",
            "Predicted Output: 0.3605962459054979\n"
          ]
        }
      ],
      "source": [
        "import numpy as np\n",
        "\n",
        "# 1. Define Activation Functions (Sigmoid + Derivative)\n",
        "def sigmoid(x):\n",
        "    return 1 / (1 + np.exp(-x))\n",
        "\n",
        "def sigmoid_derivative(x):\n",
        "    return x * (1 - x)\n",
        "\n",
        "# 2. Prepare Training and Test Data\n",
        "train_data = np.array([[0.2, 0.1], [0.3, 0.2], [0.4, 0.3], [0.7, 0.6], [0.8, 0.7], [0.9, 0.8]])\n",
        "train_labels = np.array([[0.3441], [0.3500], [0.3558], [0.3729], [0.3785], [0.3841]])\n",
        "\n",
        "test_data = np.array([[0.5, 0.4], [0.6, 0.5]])\n",
        "test_labels = np.array([[0.3615], [0.3672]])\n",
        "\n",
        "# 3. Define ANN Architecture\n",
        "input_neurons = 2\n",
        "hidden_neurons = 3\n",
        "output_neurons = 1\n",
        "\n",
        "# 4. Initialize Weights and Biases randomly\n",
        "np.random.seed(42)  # For reproducibility\n",
        "weights_input_hidden = np.random.rand(input_neurons, hidden_neurons)\n",
        "bias_hidden = np.random.rand(1, hidden_neurons)\n",
        "weights_hidden_output = np.random.rand(hidden_neurons, output_neurons)\n",
        "bias_output = np.random.rand(1, output_neurons)\n",
        "\n",
        "# Hyperparameters\n",
        "learning_rate = 0.01\n",
        "epochs = 10000\n",
        "\n",
        "# 5. Train the Model using forward propagation and backpropagation\n",
        "for epoch in range(epochs):\n",
        "    # Forward Propagation\n",
        "    hidden_layer_input = np.dot(train_data, weights_input_hidden) + bias_hidden\n",
        "    hidden_layer_output = sigmoid(hidden_layer_input)\n",
        "\n",
        "    output_layer_input = np.dot(hidden_layer_output, weights_hidden_output) + bias_output\n",
        "    predicted_output = output_layer_input  # Linear activation\n",
        "\n",
        "    # Calculate Error\n",
        "    error = train_labels - predicted_output\n",
        "\n",
        "    # Backpropagation\n",
        "    d_predicted_output = -2 * error  # Derivative of Mean Squared Error\n",
        "    d_weights_hidden_output = np.dot(hidden_layer_output.T, d_predicted_output)\n",
        "    d_bias_output = np.sum(d_predicted_output, axis=0, keepdims=True)\n",
        "\n",
        "    hidden_layer_error = np.dot(d_predicted_output, weights_hidden_output.T)\n",
        "    d_hidden_layer = hidden_layer_error * sigmoid_derivative(hidden_layer_output)\n",
        "    d_weights_input_hidden = np.dot(train_data.T, d_hidden_layer)\n",
        "    d_bias_hidden = np.sum(d_hidden_layer, axis=0, keepdims=True)\n",
        "\n",
        "    # Update Weights and Biases\n",
        "    weights_hidden_output -= learning_rate * d_weights_hidden_output\n",
        "    bias_output -= learning_rate * d_bias_output\n",
        "    weights_input_hidden -= learning_rate * d_weights_input_hidden\n",
        "    bias_hidden -= learning_rate * d_bias_hidden\n",
        "\n",
        "# 6. Calculate MSE for Training and Testing Data\n",
        "def calculate_mse(data, labels):\n",
        "    hidden_layer_input = np.dot(data, weights_input_hidden) + bias_hidden\n",
        "    hidden_layer_output = sigmoid(hidden_layer_input)\n",
        "    output_layer_input = np.dot(hidden_layer_output, weights_hidden_output) + bias_output\n",
        "    predictions = output_layer_input\n",
        "    mse = np.mean((labels - predictions) ** 2)\n",
        "    return mse\n",
        "\n",
        "mse_train = calculate_mse(train_data, train_labels)\n",
        "mse_test = calculate_mse(test_data, test_labels)\n",
        "\n",
        "print(f\"Training MSE: {mse_train}\")\n",
        "print(f\"Testing MSE: {mse_test}\")\n",
        "\n",
        "# 7. Make Predictions for New User Input\n",
        "def predict(x1, x2):\n",
        "    input_data = np.array([[x1, x2]])\n",
        "    hidden_layer_input = np.dot(input_data, weights_input_hidden) + bias_hidden\n",
        "    hidden_layer_output = sigmoid(hidden_layer_input)\n",
        "    output_layer_input = np.dot(hidden_layer_output, weights_hidden_output) + bias_output\n",
        "    prediction = output_layer_input\n",
        "    return prediction[0][0]\n",
        "\n",
        "# Get user input\n",
        "x1 = float(input(\"Enter x1: \"))\n",
        "x2 = float(input(\"Enter x2: \"))\n",
        "predicted_value = predict(x1, x2)\n",
        "print(f\"Predicted Output: {predicted_value}\")"
      ]
    }
  ]
}