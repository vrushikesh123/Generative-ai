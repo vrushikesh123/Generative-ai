{
  "nbformat": 4,
  "nbformat_minor": 0,
  "metadata": {
    "colab": {
      "provenance": [],
      "authorship_tag": "ABX9TyM+Ne53xxHnkMokaOryqS//",
      "include_colab_link": true
    },
    "kernelspec": {
      "name": "python3",
      "display_name": "Python 3"
    },
    "language_info": {
      "name": "python"
    }
  },
  "cells": [
    {
      "cell_type": "markdown",
      "metadata": {
        "id": "view-in-github",
        "colab_type": "text"
      },
      "source": [
        "<a href=\"https://colab.research.google.com/github/vrushikesh123/Generative-ai/blob/main/Generative_Ai_2.ipynb\" target=\"_parent\"><img src=\"https://colab.research.google.com/assets/colab-badge.svg\" alt=\"Open In Colab\"/></a>"
      ]
    },
    {
      "cell_type": "code",
      "execution_count": 1,
      "metadata": {
        "colab": {
          "base_uri": "https://localhost:8080/"
        },
        "id": "O1YsuGNEaeis",
        "outputId": "5781606e-fc9c-42f4-f947-836b60c15e64"
      },
      "outputs": [
        {
          "output_type": "stream",
          "name": "stdout",
          "text": [
            "Optimal Solution:\n",
            "Number of units of Chocolate A (x1): 2.00\n",
            "Number of units of Chocolate B (x2): 3.00\n",
            "Maximum Profit: Rs 27.00\n"
          ]
        }
      ],
      "source": [
        "from scipy.optimize import linprog\n",
        "\n",
        "# Coefficients of the objective function (maximize 6x1 + 5x2)\n",
        "c = [-6, -5]  # Negative because linprog minimizes by default\n",
        "\n",
        "# Coefficients of the inequality constraints\n",
        "A = [[1, 1],     # Milk constraint: x1 + x2 <= 5\n",
        "     [3, 2]]     # Choco constraint: 3x1 + 2x2 <= 12\n",
        "b = [5, 12]      # RHS of the constraints\n",
        "\n",
        "# Bounds for the variables\n",
        "x_bounds = [(0, None),  # x1 >= 0\n",
        "            (0, None)]  # x2 >= 0\n",
        "\n",
        "# Solve the linear programming problem\n",
        "result = linprog(c, A_ub=A, b_ub=b, bounds=x_bounds, method='highs')\n",
        "\n",
        "# Display the results\n",
        "if result.success:\n",
        "    print(\"Optimal Solution:\")\n",
        "    print(f\"Number of units of Chocolate A (x1): {result.x[0]:.2f}\")\n",
        "    print(f\"Number of units of Chocolate B (x2): {result.x[1]:.2f}\")\n",
        "    print(f\"Maximum Profit: Rs {-result.fun:.2f}\")\n",
        "else:\n",
        "    print(\"No solution found.\")"
      ]
    },
    {
      "cell_type": "code",
      "source": [
        "from scipy.optimize import linprog\n",
        "\n",
        "# Coefficients of the objective function (maximize 50x1 + 120x2)\n",
        "c = [-50, -120]  # Negative because linprog minimizes by default\n",
        "\n",
        "# Coefficients of the inequality constraints\n",
        "A = [[1, 1],       # Land constraint: x1 + x2 <= 110\n",
        "     [7000, 2000], # Budget constraint: 7000x1 + 2000x2 <= 700,000\n",
        "     [10, 30]]     # Labor constraint: 10x1 + 30x2 <= 1200\n",
        "b = [110, 700000, 1200]  # RHS of the constraints\n",
        "\n",
        "# Bounds for the variables\n",
        "x_bounds = [(0, None),  # x1 >= 0\n",
        "            (0, None)]  # x2 >= 0\n",
        "\n",
        "# Solve the linear programming problem\n",
        "result = linprog(c, A_ub=A, b_ub=b, bounds=x_bounds, method='highs')\n",
        "\n",
        "# Display the results\n",
        "if result.success:\n",
        "    print(\"Optimal Solution:\")\n",
        "    print(f\"Area allocated to Wheat (x1): {result.x[0]:.2f} hectares\")\n",
        "    print(f\"Area allocated to Barley (x2): {result.x[1]:.2f} hectares\")\n",
        "    print(f\"Maximum Profit: Rs {-result.fun:.2f}\")\n",
        "else:\n",
        "    print(\"No solution found.\")"
      ],
      "metadata": {
        "colab": {
          "base_uri": "https://localhost:8080/"
        },
        "id": "38gNZv09eUy2",
        "outputId": "c42ac6c3-8eb3-4f3c-8f37-571cf82ff972"
      },
      "execution_count": 2,
      "outputs": [
        {
          "output_type": "stream",
          "name": "stdout",
          "text": [
            "Optimal Solution:\n",
            "Area allocated to Wheat (x1): 97.89 hectares\n",
            "Area allocated to Barley (x2): 7.37 hectares\n",
            "Maximum Profit: Rs 5778.95\n"
          ]
        }
      ]
    }
  ]
}